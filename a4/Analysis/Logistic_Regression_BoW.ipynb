{
 "cells": [
  {
   "cell_type": "markdown",
   "metadata": {},
   "source": [
    "# Sentiment Analysis using Logistic Regression and Bag of Words"
   ]
  },
  {
   "cell_type": "markdown",
   "metadata": {},
   "source": [
    "### Setup"
   ]
  },
  {
   "cell_type": "code",
   "execution_count": 596,
   "metadata": {},
   "outputs": [],
   "source": [
    "import numpy as np \n",
    "import pandas as pd"
   ]
  },
  {
   "cell_type": "code",
   "execution_count": 597,
   "metadata": {},
   "outputs": [],
   "source": [
    "train = pd.read_csv(\"../train.csv\")\n",
    "val = pd.read_csv(\"../val.csv\")"
   ]
  },
  {
   "cell_type": "code",
   "execution_count": 598,
   "metadata": {},
   "outputs": [],
   "source": [
    "from sklearn.feature_extraction.text import CountVectorizer"
   ]
  },
  {
   "cell_type": "code",
   "execution_count": 599,
   "metadata": {},
   "outputs": [],
   "source": [
    "vectorizer = CountVectorizer()"
   ]
  },
  {
   "cell_type": "code",
   "execution_count": 600,
   "metadata": {},
   "outputs": [],
   "source": [
    "train_words = train.iloc[:,2]\n",
    "train_labels = train.iloc[:,1]"
   ]
  },
  {
   "cell_type": "code",
   "execution_count": 601,
   "metadata": {},
   "outputs": [],
   "source": [
    "def to_vec (arr): \n",
    "    one = [1, 0, 0, 0, 0]\n",
    "    two = [0, 1, 0, 0, 0]\n",
    "    three = [0, 0, 1, 0, 0]\n",
    "    four = [0, 0, 0, 1, 0]\n",
    "    five = [0, 0, 0, 0, 1]\n",
    "    train_labels = []\n",
    "    \n",
    "    for i in range (0, arr.shape[0]): \n",
    "        x = arr.iloc[i]\n",
    "        if x <= 0.2: \n",
    "            value = one\n",
    "        elif x <= 0.4: \n",
    "            value = two\n",
    "        elif x <= 0.6: \n",
    "            value = three\n",
    "        elif x <= 0.8: \n",
    "            value = four \n",
    "        elif x <= 1:\n",
    "            value = five\n",
    "        else: \n",
    "            print(x)\n",
    "            print(arr.iloc[x])\n",
    "            assert(1 == 2)\n",
    "        \n",
    "        train_labels.append(value)\n",
    "    \n",
    "    train_labels = pd.DataFrame(train_labels)\n",
    "    return train_labels"
   ]
  },
  {
   "cell_type": "code",
   "execution_count": 602,
   "metadata": {},
   "outputs": [
    {
     "name": "stdout",
     "output_type": "stream",
     "text": [
      "(191385, 18018)\n",
      "(191385, 5)\n"
     ]
    }
   ],
   "source": [
    "train_labels = to_vec(train_labels)\n",
    "train_features = vectorizer.fit_transform(train_words)\n",
    "print(train_features.shape)\n",
    "print(train_labels.shape)"
   ]
  },
  {
   "cell_type": "code",
   "execution_count": 603,
   "metadata": {},
   "outputs": [
    {
     "name": "stdout",
     "output_type": "stream",
     "text": [
      "phrase_id                         151598\n",
      "label                            0.70833\n",
      "phrase       a delicate , surgical touch\n",
      "Name: 97, dtype: object\n"
     ]
    }
   ],
   "source": [
    "print(train.iloc[97])"
   ]
  },
  {
   "cell_type": "code",
   "execution_count": 604,
   "metadata": {},
   "outputs": [
    {
     "name": "stdout",
     "output_type": "stream",
     "text": [
      "(23923, 5)\n",
      "(23923, 18018)\n"
     ]
    }
   ],
   "source": [
    "val_words = val.iloc[:,2]\n",
    "val_labels = val.iloc[:,1]\n",
    "val_labels = to_vec(val_labels)\n",
    "val_features = vectorizer.transform(val_words)\n",
    "print(val_labels.shape)\n",
    "print(val_features.shape)"
   ]
  },
  {
   "cell_type": "code",
   "execution_count": 605,
   "metadata": {},
   "outputs": [],
   "source": [
    "from sklearn import preprocessing \n",
    "train_features = preprocessing.normalize(train_features)\n",
    "val_features = preprocessing.normalize(val_features)"
   ]
  },
  {
   "cell_type": "markdown",
   "metadata": {},
   "source": [
    "### Logistic Regression"
   ]
  },
  {
   "cell_type": "code",
   "execution_count": 606,
   "metadata": {},
   "outputs": [],
   "source": [
    "from sklearn.multiclass import OneVsRestClassifier\n",
    "from sklearn.linear_model import LogisticRegression"
   ]
  },
  {
   "cell_type": "code",
   "execution_count": 607,
   "metadata": {},
   "outputs": [
    {
     "data": {
      "text/plain": [
       "OneVsRestClassifier(estimator=LogisticRegression(C=1.0, class_weight=None,\n",
       "                                                 dual=False, fit_intercept=True,\n",
       "                                                 intercept_scaling=1,\n",
       "                                                 l1_ratio=None, max_iter=10000,\n",
       "                                                 multi_class='auto',\n",
       "                                                 n_jobs=None, penalty='l2',\n",
       "                                                 random_state=None,\n",
       "                                                 solver='lbfgs', tol=0.0001,\n",
       "                                                 verbose=0, warm_start=False),\n",
       "                    n_jobs=None)"
      ]
     },
     "execution_count": 607,
     "metadata": {},
     "output_type": "execute_result"
    }
   ],
   "source": [
    "clf = OneVsRestClassifier(LogisticRegression(max_iter=10000))\n",
    "clf.fit(train_features, train_labels)"
   ]
  },
  {
   "cell_type": "code",
   "execution_count": 608,
   "metadata": {},
   "outputs": [],
   "source": [
    "val_pred = clf.predict(val_features)"
   ]
  },
  {
   "cell_type": "markdown",
   "metadata": {},
   "source": [
    "### Metrics"
   ]
  },
  {
   "cell_type": "code",
   "execution_count": 609,
   "metadata": {},
   "outputs": [],
   "source": [
    "val_pred.shape\n",
    "val_pred = np.argmax(val_pred, axis=1)\n",
    "val_pred = np.apply_along_axis(lambda x: x + 1, 0, val_pred)"
   ]
  },
  {
   "cell_type": "code",
   "execution_count": 610,
   "metadata": {},
   "outputs": [],
   "source": [
    "val_labels.shape\n",
    "val_labels = val_labels.to_numpy()\n",
    "val_labels = np.argmax(val_labels, axis=1)\n",
    "val_labels = np.apply_along_axis(lambda x: x + 1, 0, val_labels)"
   ]
  },
  {
   "cell_type": "code",
   "execution_count": 611,
   "metadata": {},
   "outputs": [
    {
     "name": "stdout",
     "output_type": "stream",
     "text": [
      "1\n"
     ]
    }
   ],
   "source": [
    "print(val_labels[468])"
   ]
  },
  {
   "cell_type": "code",
   "execution_count": 612,
   "metadata": {},
   "outputs": [
    {
     "data": {
      "text/plain": [
       "0.49287296743719433"
      ]
     },
     "execution_count": 612,
     "metadata": {},
     "output_type": "execute_result"
    }
   ],
   "source": [
    "from sklearn.metrics import accuracy_score\n",
    "accuracy_score(val_pred, val_labels)"
   ]
  },
  {
   "cell_type": "code",
   "execution_count": 613,
   "metadata": {},
   "outputs": [
    {
     "name": "stdout",
     "output_type": "stream",
     "text": [
      "and Mary-Louise Parker\n",
      "prediction:\n",
      "3\n",
      "label:\n",
      "3\n",
      "believe any viewer , young or old ,\n",
      "prediction:\n",
      "3\n",
      "label:\n",
      "3\n",
      "want a little more than this\n",
      "prediction:\n",
      "3\n",
      "label:\n",
      "3\n",
      ", the documentary gives an especially poignant portrait of her friendship with the never flagging legal investigator David Presson .\n",
      "prediction:\n",
      "1\n",
      "label:\n",
      "4\n",
      "back to Newcastle , the first half of Gangster No .\n",
      "prediction:\n",
      "3\n",
      "label:\n",
      "3\n",
      "listless , witless\n",
      "prediction:\n",
      "2\n",
      "label:\n",
      "2\n",
      "as cool and crowd-pleasing as a documentary can get\n",
      "prediction:\n",
      "1\n",
      "label:\n",
      "5\n",
      "the master of innuendo . It is not what you see\n",
      "prediction:\n",
      "1\n",
      "label:\n",
      "3\n",
      "the hapless victims of the arrogant\n",
      "prediction:\n",
      "1\n",
      "label:\n",
      "3\n",
      "first . Many of the effective horror elements\n",
      "prediction:\n",
      "1\n",
      "label:\n",
      "3\n",
      "is forced and heavy-handed , and occasionally simply unpleasant\n",
      "prediction:\n",
      "1\n",
      "label:\n",
      "2\n",
      "does Steven Seagal come across these days ?\n",
      "prediction:\n",
      "3\n",
      "label:\n",
      "2\n",
      "matinee brain\n",
      "prediction:\n",
      "3\n",
      "label:\n",
      "3\n",
      "yet compulsively\n",
      "prediction:\n",
      "3\n",
      "label:\n",
      "3\n",
      "A gimmick in search of a movie : how to get Carvey into as many silly costumes and deliver as many silly voices as possible , plot mechanics be damned\n",
      "prediction:\n",
      "2\n",
      "label:\n",
      "2\n",
      "he took to drink\n",
      "prediction:\n",
      "3\n",
      "label:\n",
      "3\n",
      "is that it avoids the obvious with humour and lightness\n",
      "prediction:\n",
      "1\n",
      "label:\n",
      "4\n",
      ", Comedian runs out of steam after a half hour .\n",
      "prediction:\n",
      "2\n",
      "label:\n",
      "2\n",
      "Calvin Jr . 's Barbershop\n",
      "prediction:\n",
      "3\n",
      "label:\n",
      "3\n",
      "that takes itself all too seriously\n",
      "prediction:\n",
      "2\n",
      "label:\n",
      "2\n",
      "passable enough for a shoot-out in the o.k. court\n",
      "prediction:\n",
      "3\n",
      "label:\n",
      "3\n",
      "Python cartoons\n",
      "prediction:\n",
      "3\n",
      "label:\n",
      "3\n",
      "the derivative Nine Queens\n",
      "prediction:\n",
      "3\n",
      "label:\n",
      "3\n",
      "Arnie musclefest\n",
      "prediction:\n",
      "3\n",
      "label:\n",
      "3\n",
      "singularly cursory\n",
      "prediction:\n",
      "3\n",
      "label:\n",
      "3\n",
      "attempts\n",
      "prediction:\n",
      "3\n",
      "label:\n",
      "3\n",
      "chokes the energy right out\n",
      "prediction:\n",
      "1\n",
      "label:\n",
      "3\n",
      "One of those staggeringly well-produced , joylessly extravagant pictures that keep whooshing you from one visual marvel to the next , hastily , emptily\n",
      "prediction:\n",
      "1\n",
      "label:\n",
      "3\n",
      "Between\n",
      "prediction:\n",
      "3\n",
      "label:\n",
      "3\n",
      "is a dark , gritty , sometimes funny little gem\n",
      "prediction:\n",
      "1\n",
      "label:\n",
      "4\n",
      "know it\n",
      "prediction:\n",
      "3\n",
      "label:\n",
      "3\n",
      "sixties '\n",
      "prediction:\n",
      "3\n",
      "label:\n",
      "3\n",
      "Besides , real movie producers are n't this nice .\n",
      "prediction:\n",
      "1\n",
      "label:\n",
      "3\n",
      "enough cool\n",
      "prediction:\n",
      "4\n",
      "label:\n",
      "4\n",
      "over the great blue globe\n",
      "prediction:\n",
      "1\n",
      "label:\n",
      "3\n",
      "'s more comedy\n",
      "prediction:\n",
      "3\n",
      "label:\n",
      "3\n",
      "Brash , intelligent and erotically perplexing , Haneke 's portrait of an upper class Austrian society and the suppression of its tucked away demons\n",
      "prediction:\n",
      "1\n",
      "label:\n",
      "4\n",
      "it 's so lackluster\n",
      "prediction:\n",
      "1\n",
      "label:\n",
      "1\n",
      "its elbows sticking out where the knees should be\n",
      "prediction:\n",
      "1\n",
      "label:\n",
      "2\n",
      "Does n't do more than expand a TV show to movie length . However\n",
      "prediction:\n",
      "2\n",
      "label:\n",
      "2\n",
      "Famous ( but with bears , and a G rating ) , with an excruciating dollop of Disney sentimentality mixed in for good measure\n",
      "prediction:\n",
      "1\n",
      "label:\n",
      "3\n",
      "just kind of\n",
      "prediction:\n",
      "3\n",
      "label:\n",
      "3\n",
      "a manga-like heroine\n",
      "prediction:\n",
      "3\n",
      "label:\n",
      "3\n",
      "There may have been a good film in '' Trouble Every Day , ''\n",
      "prediction:\n",
      "1\n",
      "label:\n",
      "4\n",
      "look like a '' real Kaputschnik\n",
      "prediction:\n",
      "3\n",
      "label:\n",
      "3\n",
      "your own skin\n",
      "prediction:\n",
      "3\n",
      "label:\n",
      "3\n",
      "with the never flagging legal investigator David Presson\n",
      "prediction:\n",
      "3\n",
      "label:\n",
      "3\n",
      "new\\/old\n",
      "prediction:\n",
      "3\n",
      "label:\n",
      "3\n",
      "His healthy sense of satire is light and fun\n",
      "prediction:\n",
      "4\n",
      "label:\n",
      "4\n",
      "inevitable American remake\n",
      "prediction:\n",
      "3\n",
      "label:\n",
      "3\n",
      "bittersweet , uncommonly sincere movie that portrays the frank humanity of ... emotional recovery\n",
      "prediction:\n",
      "4\n",
      "label:\n",
      "4\n",
      ", very much its own droll and delicate little film ,\n",
      "prediction:\n",
      "1\n",
      "label:\n",
      "4\n",
      "improperly hammy\n",
      "prediction:\n",
      "3\n",
      "label:\n",
      "3\n",
      "delineate the cost of the inevitable conflicts between human urges and an institution concerned with self-preservation\n",
      "prediction:\n",
      "3\n",
      "label:\n",
      "2\n",
      "comic book\n",
      "prediction:\n",
      "3\n",
      "label:\n",
      "3\n",
      "old , familiar vaudeville partners\n",
      "prediction:\n",
      "3\n",
      "label:\n",
      "3\n",
      "in scope\n",
      "prediction:\n",
      "3\n",
      "label:\n",
      "3\n",
      "Too many improbabilities and\n",
      "prediction:\n",
      "1\n",
      "label:\n",
      "2\n",
      "With an obvious rapport with her actors and a striking style behind the camera , Hélène Angel is definitely a director to watch .\n",
      "prediction:\n",
      "4\n",
      "label:\n",
      "5\n",
      "very interesting and odd that\n",
      "prediction:\n",
      "1\n",
      "label:\n",
      "3\n",
      "its britches\n",
      "prediction:\n",
      "3\n",
      "label:\n",
      "3\n",
      "every bodily fluids gag in There 's\n",
      "prediction:\n",
      "3\n",
      "label:\n",
      "3\n",
      "A sharp satire\n",
      "prediction:\n",
      "4\n",
      "label:\n",
      "4\n",
      "purpose\n",
      "prediction:\n",
      "3\n",
      "label:\n",
      "4\n",
      "half as\n",
      "prediction:\n",
      "3\n",
      "label:\n",
      "3\n",
      "mature and\n",
      "prediction:\n",
      "1\n",
      "label:\n",
      "4\n",
      "be impossible to believe if it were n't true\n",
      "prediction:\n",
      "3\n",
      "label:\n",
      "3\n",
      "spine tingle\n",
      "prediction:\n",
      "3\n",
      "label:\n",
      "4\n",
      "yet permits laughter\n",
      "prediction:\n",
      "3\n",
      "label:\n",
      "4\n",
      "Sensitive though not quite revelatory documentary .\n",
      "prediction:\n",
      "1\n",
      "label:\n",
      "3\n",
      "that reveals its first-time feature director\n",
      "prediction:\n",
      "1\n",
      "label:\n",
      "3\n",
      "The off-center humor is a constant , and the ensemble gives it a buoyant delivery .\n",
      "prediction:\n",
      "1\n",
      "label:\n",
      "4\n",
      "Arnold ! The Movie is clever , offbeat and even gritty enough to overcome my resistance\n",
      "prediction:\n",
      "4\n",
      "label:\n",
      "5\n",
      "adam sandler 's\n",
      "prediction:\n",
      "3\n",
      "label:\n",
      "3\n",
      "that keeps things moving , while never quite managing to connect her wish-fulfilling characters to the human race\n",
      "prediction:\n",
      "1\n",
      "label:\n",
      "3\n",
      "following a feel-good formula\n",
      "prediction:\n",
      "1\n",
      "label:\n",
      "4\n",
      "that entertains even as it turns maddeningly predictable\n",
      "prediction:\n",
      "1\n",
      "label:\n",
      "4\n",
      "you 'll read anywhere\n",
      "prediction:\n",
      "3\n",
      "label:\n",
      "3\n",
      "Is the time\n",
      "prediction:\n",
      "3\n",
      "label:\n",
      "3\n",
      "terrorist attacks\n",
      "prediction:\n",
      "3\n",
      "label:\n",
      "1\n",
      "on a true and historically significant story\n",
      "prediction:\n",
      "1\n",
      "label:\n",
      "4\n",
      "the majority\n",
      "prediction:\n",
      "3\n",
      "label:\n",
      "3\n",
      "For all its surface frenzy\n",
      "prediction:\n",
      "3\n",
      "label:\n",
      "3\n",
      "than enchanting ... terribly episodic and lacking the spark of imagination that might have made it an exhilarating\n",
      "prediction:\n",
      "2\n",
      "label:\n",
      "2\n",
      "This deeply spiritual film taps into the meaning and consolation in afterlife communications .\n",
      "prediction:\n",
      "1\n",
      "label:\n",
      "4\n",
      "castle\n",
      "prediction:\n",
      "3\n",
      "label:\n",
      "3\n",
      "still photographs\n",
      "prediction:\n",
      "3\n",
      "label:\n",
      "3\n",
      "is smarter and subtler than ( total recall and blade runner ) ,\n",
      "prediction:\n",
      "1\n",
      "label:\n",
      "5\n",
      "you stripped away its inspirations there\n",
      "prediction:\n",
      "3\n",
      "label:\n",
      "2\n",
      "The obligatory break-ups\n",
      "prediction:\n",
      "3\n",
      "label:\n",
      "3\n",
      "should be sent to and buried on Pluto .\n",
      "prediction:\n",
      "1\n",
      "label:\n",
      "2\n",
      "With wit and empathy to spare , waydowntown acknowledges the silent screams of workaday inertia but stops short of indulging its characters ' striving solipsism .\n",
      "prediction:\n",
      "1\n",
      "label:\n",
      "3\n",
      "is so contrived , nonsensical and formulaic that , come to think of it , the day-old shelf would be a more appropriate location to store it .\n",
      "prediction:\n",
      "2\n",
      "label:\n",
      "3\n",
      "she-cute baggage\n",
      "prediction:\n",
      "3\n",
      "label:\n",
      "3\n",
      "climactic hourlong cricket match\n",
      "prediction:\n",
      "3\n",
      "label:\n",
      "3\n",
      "of comedy and melodrama\n",
      "prediction:\n",
      "1\n",
      "label:\n",
      "3\n",
      "does n't have enough innovation or pizazz to attract teenagers\n",
      "prediction:\n",
      "3\n",
      "label:\n",
      "2\n",
      "10 or 15 minutes could be cut and no one would notice --\n",
      "prediction:\n",
      "1\n",
      "label:\n",
      "2\n",
      "self-consciously poetic\n",
      "prediction:\n",
      "1\n",
      "label:\n",
      "4\n",
      "that does n't bring you into the characters so much as it has you study them\n",
      "prediction:\n",
      "1\n",
      "label:\n",
      "4\n"
     ]
    }
   ],
   "source": [
    "for i in range (0, 100): \n",
    "    print(val_words[i])\n",
    "    print(\"prediction:\")\n",
    "    print(val_pred[i])\n",
    "    print(\"label:\")\n",
    "    print(val_labels[i])"
   ]
  },
  {
   "cell_type": "markdown",
   "metadata": {},
   "source": [
    "### Graph"
   ]
  },
  {
   "cell_type": "code",
   "execution_count": 614,
   "metadata": {},
   "outputs": [],
   "source": [
    "import seaborn as sns\n",
    "from matplotlib import pyplot as plt\n",
    "from matplotlib import rc\n",
    "sns.set_style(\"white\")\n",
    "rc('text', usetex=True)"
   ]
  },
  {
   "cell_type": "code",
   "execution_count": 615,
   "metadata": {},
   "outputs": [
    {
     "data": {
      "image/png": "[encoded data removed]",
      "text/plain": [
       "<Figure size 432x288 with 1 Axes>"
      ]
     },
     "metadata": {},
     "output_type": "display_data"
    }
   ],
   "source": [
    "sns.boxplot(val_labels, val_pred)\n",
    "plt.xlabel(\"Actual Value\", fontsize=\"medium\")\n",
    "plt.ylabel(\"Predicted Value\", fontsize=\"medium\")\n",
    "plt.title(\"Logistic Regression with BoW\")\n",
    "plt.tight_layout()\n",
    "plt.savefig(\"visualization/lin_reg_scatter_BoW.png\", bbox_inches=\"tight\", dpi=400)"
   ]
  },
  {
   "cell_type": "code",
   "execution_count": 616,
   "metadata": {},
   "outputs": [
    {
     "data": {
      "image/png": "[encoded data removed]",
      "text/plain": [
       "<Figure size 432x288 with 1 Axes>"
      ]
     },
     "metadata": {},
     "output_type": "display_data"
    }
   ],
   "source": [
    "sns.violinplot(val_pred, val_labels)\n",
    "plt.xlabel(\"Predicted Value\", fontsize=\"medium\")\n",
    "plt.ylabel(\"Actual Value\", fontsize=\"medium\")\n",
    "plt.title(\"Logistic Regression with BoW Representation\")\n",
    "plt.tight_layout()\n",
    "plt.savefig(\"visualization/lin_reg_violin_BoW.png\", bbox_inches=\"tight\", dpi=400)"
   ]
  },
  {
   "cell_type": "code",
   "execution_count": 617,
   "metadata": {},
   "outputs": [],
   "source": [
    "train_pred = clf.predict(train_features)"
   ]
  },
  {
   "cell_type": "code",
   "execution_count": 618,
   "metadata": {},
   "outputs": [
    {
     "data": {
      "text/plain": [
       "0.4814222640227813"
      ]
     },
     "execution_count": 618,
     "metadata": {},
     "output_type": "execute_result"
    }
   ],
   "source": [
    "accuracy_score(train_pred, train_labels)"
   ]
  },
  {
   "cell_type": "code",
   "execution_count": null,
   "metadata": {},
   "outputs": [],
   "source": []
  }
 ],
 "metadata": {
  "kernelspec": {
   "display_name": "Python 3",
   "language": "python",
   "name": "python3"
  },
  "language_info": {
   "codemirror_mode": {
    "name": "ipython",
    "version": 3
   },
   "file_extension": ".py",
   "mimetype": "text/x-python",
   "name": "python",
   "nbconvert_exporter": "python",
   "pygments_lexer": "ipython3",
   "version": "3.7.3"
  }
 },
 "nbformat": 4,
 "nbformat_minor": 4
}
