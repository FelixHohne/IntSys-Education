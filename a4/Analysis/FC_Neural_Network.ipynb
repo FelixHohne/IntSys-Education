{
 "cells": [
  {
   "cell_type": "markdown",
   "metadata": {},
   "source": [
    "### Sentiment Analysis using a Fully Connected Neural Network"
   ]
  },
  {
   "cell_type": "code",
   "execution_count": 126,
   "metadata": {},
   "outputs": [],
   "source": [
    "import numpy as np\n",
    "import pandas as pd"
   ]
  },
  {
   "cell_type": "code",
   "execution_count": 127,
   "metadata": {},
   "outputs": [],
   "source": [
    "train = pd.read_csv(\"../train.csv\")\n",
    "val = pd.read_csv(\"../val.csv\")"
   ]
  },
  {
   "cell_type": "code",
   "execution_count": 128,
   "metadata": {},
   "outputs": [],
   "source": [
    "from sklearn.feature_extraction.text import CountVectorizer"
   ]
  },
  {
   "cell_type": "code",
   "execution_count": 129,
   "metadata": {},
   "outputs": [],
   "source": [
    "vectorizer = CountVectorizer() "
   ]
  },
  {
   "cell_type": "code",
   "execution_count": 130,
   "metadata": {},
   "outputs": [],
   "source": [
    "train_words = train.iloc[:,2]\n",
    "train_labels = train.iloc[:,1]"
   ]
  },
  {
   "cell_type": "code",
   "execution_count": 131,
   "metadata": {},
   "outputs": [],
   "source": [
    "def to_vec (arr): \n",
    "    one = [1, 0, 0, 0, 0]\n",
    "    two = [0, 1, 0, 0, 0]\n",
    "    three = [0, 0, 1, 0, 0]\n",
    "    four = [0, 0, 0, 1, 0]\n",
    "    five = [0, 0, 0, 0, 1]\n",
    "    train_labels = []\n",
    "    \n",
    "    for i in range (0, arr.shape[0]): \n",
    "        x = arr.iloc[i]\n",
    "        if x <= 0.2: \n",
    "            value = one\n",
    "        elif x <= 0.4: \n",
    "            value = two\n",
    "        elif x <= 0.6: \n",
    "            value = three\n",
    "        elif x <= 0.8: \n",
    "            value = four \n",
    "        elif x <= 1:\n",
    "            value = five\n",
    "        else: \n",
    "            print(x)\n",
    "            print(arr.iloc[x])\n",
    "            assert(1 == 2)\n",
    "        \n",
    "        train_labels.append(value)\n",
    "    \n",
    "    train_labels = pd.DataFrame(train_labels)\n",
    "    return train_labels"
   ]
  },
  {
   "cell_type": "code",
   "execution_count": 132,
   "metadata": {},
   "outputs": [
    {
     "name": "stdout",
     "output_type": "stream",
     "text": [
      "(191385, 18018)\n",
      "(191385, 5)\n"
     ]
    }
   ],
   "source": [
    "train_labels = to_vec(train_labels)\n",
    "train_features = vectorizer.fit_transform(train_words)\n",
    "print(train_features.shape)\n",
    "print(train_labels.shape)"
   ]
  },
  {
   "cell_type": "code",
   "execution_count": 133,
   "metadata": {},
   "outputs": [
    {
     "name": "stdout",
     "output_type": "stream",
     "text": [
      "(23923, 5)\n",
      "(23923, 18018)\n"
     ]
    }
   ],
   "source": [
    "val_words = val.iloc[:,2]\n",
    "val_labels = val.iloc[:,1]\n",
    "val_labels = to_vec(val_labels)\n",
    "val_features = vectorizer.transform(val_words)\n",
    "print(val_labels.shape)\n",
    "print(val_features.shape)"
   ]
  },
  {
   "cell_type": "code",
   "execution_count": 134,
   "metadata": {},
   "outputs": [],
   "source": [
    "from sklearn import preprocessing \n",
    "train_features = preprocessing.normalize(train_features)\n",
    "val_features = preprocessing.normalize(val_features)"
   ]
  },
  {
   "cell_type": "markdown",
   "metadata": {},
   "source": [
    "### Fully Connected Neural Network"
   ]
  },
  {
   "cell_type": "code",
   "execution_count": 135,
   "metadata": {},
   "outputs": [],
   "source": [
    "from sklearn.neural_network import MLPClassifier\n",
    "from sklearn import metrics"
   ]
  },
  {
   "cell_type": "code",
   "execution_count": 136,
   "metadata": {},
   "outputs": [],
   "source": [
    "neural_net = MLPClassifier(verbose=True, warm_start=True)"
   ]
  },
  {
   "cell_type": "code",
   "execution_count": null,
   "metadata": {},
   "outputs": [
    {
     "name": "stdout",
     "output_type": "stream",
     "text": [
      "Iteration 1, loss = 1.90334580\n",
      "Iteration 2, loss = 1.49005899\n",
      "Iteration 3, loss = 1.37995925\n",
      "Iteration 4, loss = 1.30796301\n",
      "Iteration 5, loss = 1.24974313\n",
      "Iteration 6, loss = 1.19978869\n",
      "Iteration 7, loss = 1.15564687\n",
      "Iteration 8, loss = 1.11591824\n",
      "Iteration 9, loss = 1.07987237\n",
      "Iteration 10, loss = 1.04707728\n",
      "Iteration 11, loss = 1.01605750\n",
      "Iteration 12, loss = 0.98722461\n",
      "Iteration 13, loss = 0.96028024\n",
      "Iteration 14, loss = 0.93520971\n",
      "Iteration 15, loss = 0.91120840\n",
      "Iteration 16, loss = 0.88824172\n",
      "Iteration 17, loss = 0.86688686\n",
      "Iteration 18, loss = 0.84633486\n",
      "Iteration 19, loss = 0.82729952\n",
      "Iteration 20, loss = 0.80832612\n",
      "Iteration 21, loss = 0.79124250\n",
      "Iteration 22, loss = 0.77518092\n",
      "Iteration 23, loss = 0.75939748\n",
      "Iteration 24, loss = 0.74438497\n",
      "Iteration 25, loss = 0.73087342\n",
      "Iteration 26, loss = 0.71744769\n",
      "Iteration 27, loss = 0.70529355\n",
      "Iteration 28, loss = 0.69295867\n"
     ]
    }
   ],
   "source": [
    "neural_net.fit(train_features, train_labels)"
   ]
  },
  {
   "cell_type": "markdown",
   "metadata": {},
   "source": [
    "### Metrics"
   ]
  },
  {
   "cell_type": "code",
   "execution_count": null,
   "metadata": {},
   "outputs": [],
   "source": [
    "val_pred = neural_net.predict(train_features)\n",
    "val_pred = np.argmax(val_pred, axis=1)\n",
    "val_pred = np.apply_along_axis(lambda x: x + 1, 0, val_pred)"
   ]
  },
  {
   "cell_type": "code",
   "execution_count": null,
   "metadata": {},
   "outputs": [],
   "source": [
    "val_labels.shape\n",
    "val_labels = val_labels.to_numpy()\n",
    "val_labels = np.argmax(val_labels, axis=1)\n",
    "val_labels = np.apply_along_axis(lambda x: x + 1, 0, val_labels)"
   ]
  },
  {
   "cell_type": "code",
   "execution_count": null,
   "metadata": {},
   "outputs": [],
   "source": [
    "from sklearn.metrics import accuracy_score\n",
    "accuracy_score(val_pred, val_labels)"
   ]
  },
  {
   "cell_type": "markdown",
   "metadata": {},
   "source": [
    "### Graphing"
   ]
  },
  {
   "cell_type": "code",
   "execution_count": null,
   "metadata": {},
   "outputs": [],
   "source": [
    "import seaborn as sns\n",
    "from matplotlib import pyplot as plt\n",
    "from matplotlib import rc\n",
    "sns.set_style(\"white\")\n",
    "rc('text', usetex=True)"
   ]
  },
  {
   "cell_type": "code",
   "execution_count": null,
   "metadata": {},
   "outputs": [],
   "source": [
    "sns.boxplot(val_pred, val_labels)\n",
    "plt.xlabel(\"Predicted Value\", fontsize=\"medium\")\n",
    "plt.ylabel(\"Actual Value\", fontsize=\"medium\")\n",
    "plt.title(\"Neural Net Performance\")\n",
    "plt.tight_layout()\n",
    "plt.savefig(\"neural net box.png\", bbox_inches=\"tight\", dpi=400)"
   ]
  },
  {
   "cell_type": "code",
   "execution_count": null,
   "metadata": {},
   "outputs": [],
   "source": [
    "sns.violinplot(val_pred, val_labels)\n",
    "plt.xlabel(\"Predicted Value\", fontsize=\"medium\")\n",
    "plt.ylabel(\"Actual Value\", fontsize=\"medium\")\n",
    "plt.title(\"Neural Net Performance\")\n",
    "plt.tight_layout()\n",
    "plt.savefig(\"visualization/neural net violin.png\", bbox_inches=\"tight\", dpi=400)"
   ]
  },
  {
   "cell_type": "code",
   "execution_count": null,
   "metadata": {},
   "outputs": [],
   "source": []
  }
 ],
 "metadata": {
  "kernelspec": {
   "display_name": "Python 3",
   "language": "python",
   "name": "python3"
  },
  "language_info": {
   "codemirror_mode": {
    "name": "ipython",
    "version": 3
   },
   "file_extension": ".py",
   "mimetype": "text/x-python",
   "name": "python",
   "nbconvert_exporter": "python",
   "pygments_lexer": "ipython3",
   "version": "3.7.3"
  }
 },
 "nbformat": 4,
 "nbformat_minor": 4
}
